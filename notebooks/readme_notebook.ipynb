{
 "cells": [
  {
   "cell_type": "code",
   "execution_count": 4,
   "id": "46bfe8fd",
   "metadata": {},
   "outputs": [
    {
     "name": "stdout",
     "output_type": "stream",
     "text": [
      "Loading data from Excel file...\n",
      "Warning: 'income_after_tax' column specified as income before tax but not found in the dataframe.\n"
     ]
    },
    {
     "ename": "AssertionError",
     "evalue": "income_after_tax column not in the dataframe. Aborting.",
     "output_type": "error",
     "traceback": [
      "\u001b[31m---------------------------------------------------------------------------\u001b[39m",
      "\u001b[31mAssertionError\u001b[39m                            Traceback (most recent call last)",
      "\u001b[36mCell\u001b[39m\u001b[36m \u001b[39m\u001b[32mIn[4]\u001b[39m\u001b[32m, line 14\u001b[39m\n\u001b[32m     11\u001b[39m     os.chdir(\u001b[33m'\u001b[39m\u001b[33m..\u001b[39m\u001b[33m'\u001b[39m)\n\u001b[32m     13\u001b[39m \u001b[38;5;66;03m# Load taxpayer data from a system with 6 brackets into TaxSolver format\u001b[39;00m\n\u001b[32m---> \u001b[39m\u001b[32m14\u001b[39m dl = \u001b[43mDataLoader\u001b[49m\u001b[43m(\u001b[49m\u001b[43mpath\u001b[49m\u001b[43m=\u001b[49m\u001b[43mos\u001b[49m\u001b[43m.\u001b[49m\u001b[43mpath\u001b[49m\u001b[43m.\u001b[49m\u001b[43mjoin\u001b[49m\u001b[43m(\u001b[49m\u001b[33;43m\"\u001b[39;49m\u001b[33;43mdata\u001b[39;49m\u001b[33;43m\"\u001b[39;49m\u001b[43m,\u001b[49m\u001b[43m \u001b[49m\u001b[33;43m\"\u001b[39;49m\u001b[33;43mexample\u001b[39;49m\u001b[33;43m\"\u001b[39;49m\u001b[43m,\u001b[49m\u001b[43m \u001b[49m\u001b[33;43m\"\u001b[39;49m\u001b[33;43msimple_simul_1000.xlsx\u001b[39;49m\u001b[33;43m\"\u001b[39;49m\u001b[43m)\u001b[49m\u001b[43m,\u001b[49m\u001b[43m \u001b[49m\n\u001b[32m     15\u001b[39m \u001b[43m                \u001b[49m\u001b[43mincome_before_tax\u001b[49m\u001b[43m=\u001b[49m\u001b[33;43m\"\u001b[39;49m\u001b[33;43mincome_before_tax\u001b[39;49m\u001b[33;43m\"\u001b[39;49m\u001b[43m,\u001b[49m\u001b[43m \u001b[49m\n\u001b[32m     16\u001b[39m \u001b[43m                \u001b[49m\u001b[43mincome_after_tax\u001b[49m\u001b[43m=\u001b[49m\u001b[33;43m\"\u001b[39;49m\u001b[33;43mincome_after_tax\u001b[39;49m\u001b[33;43m\"\u001b[39;49m\u001b[43m)\u001b[49m\n\u001b[32m     18\u001b[39m \u001b[38;5;66;03m# Initialize the solver\u001b[39;00m\n\u001b[32m     19\u001b[39m tax_solver = tx.TaxSolver(dl.households)\n",
      "\u001b[36mFile \u001b[39m\u001b[32m~/Documents/afep/TaxSolver/src/TaxSolver/data_wrangling/data_loader.py:122\u001b[39m, in \u001b[36mDataLoader.__init__\u001b[39m\u001b[34m(self, path, income_before_tax, income_after_tax, id, weight, hh_id, mirror_id, input_vars, group_vars, tax_rules, special_vars, prefixes, ids)\u001b[39m\n\u001b[32m    119\u001b[39m \u001b[38;5;28mself\u001b[39m.ids = ids \u001b[38;5;129;01mor\u001b[39;00m [\u001b[33m\"\u001b[39m\u001b[33mid\u001b[39m\u001b[33m\"\u001b[39m, \u001b[33m\"\u001b[39m\u001b[33mhh_id\u001b[39m\u001b[33m\"\u001b[39m, \u001b[33m\"\u001b[39m\u001b[33mmirror_id\u001b[39m\u001b[33m\"\u001b[39m, \u001b[33m\"\u001b[39m\u001b[33mweight\u001b[39m\u001b[33m\"\u001b[39m]\n\u001b[32m    120\u001b[39m \u001b[38;5;28mself\u001b[39m.df = \u001b[38;5;28mself\u001b[39m._load_data(path)\n\u001b[32m--> \u001b[39m\u001b[32m122\u001b[39m \u001b[38;5;28;43mself\u001b[39;49m\u001b[43m.\u001b[49m\u001b[43m_input_validation\u001b[49m\u001b[43m(\u001b[49m\u001b[43m)\u001b[49m\n\u001b[32m    123\u001b[39m \u001b[38;5;28mself\u001b[39m._select_columns()\n\u001b[32m    124\u001b[39m \u001b[38;5;28mself\u001b[39m._create_people_and_households()\n",
      "\u001b[36mFile \u001b[39m\u001b[32m~/Documents/afep/TaxSolver/src/TaxSolver/data_wrangling/data_loader.py:195\u001b[39m, in \u001b[36mDataLoader._input_validation\u001b[39m\u001b[34m(self)\u001b[39m\n\u001b[32m    191\u001b[39m         \u001b[38;5;28;01mif\u001b[39;00m \u001b[33m\"\u001b[39m\u001b[33mincome_after_tax\u001b[39m\u001b[33m\"\u001b[39m \u001b[38;5;129;01min\u001b[39;00m \u001b[38;5;28mself\u001b[39m.df.columns:\n\u001b[32m    192\u001b[39m             \u001b[38;5;28mprint\u001b[39m(\u001b[33m\"\u001b[39m\u001b[33mUsing \u001b[39m\u001b[33m'\u001b[39m\u001b[33mincome_after_tax\u001b[39m\u001b[33m'\u001b[39m\u001b[33m as the income before tax column.\u001b[39m\u001b[33m\"\u001b[39m)\n\u001b[32m    194\u001b[39m \u001b[38;5;28;01massert\u001b[39;00m (\n\u001b[32m--> \u001b[39m\u001b[32m195\u001b[39m     \u001b[33m\"\u001b[39m\u001b[33mincome_after_tax\u001b[39m\u001b[33m\"\u001b[39m \u001b[38;5;129;01min\u001b[39;00m \u001b[38;5;28mself\u001b[39m.df.columns\n\u001b[32m    196\u001b[39m ), \u001b[33m\"\u001b[39m\u001b[33mincome_after_tax column not in the dataframe. Aborting.\u001b[39m\u001b[33m\"\u001b[39m\n\u001b[32m    198\u001b[39m \u001b[38;5;28;01mif\u001b[39;00m \u001b[38;5;28mself\u001b[39m.weight:\n\u001b[32m    199\u001b[39m     \u001b[38;5;28;01mif\u001b[39;00m \u001b[38;5;28mself\u001b[39m.weight \u001b[38;5;129;01min\u001b[39;00m \u001b[38;5;28mself\u001b[39m.df.columns:\n",
      "\u001b[31mAssertionError\u001b[39m: income_after_tax column not in the dataframe. Aborting."
     ]
    }
   ],
   "source": [
    "import os\n",
    "import TaxSolver as tx\n",
    "from TaxSolver.constraints.income_constraint import IncomeConstraint\n",
    "from TaxSolver.constraints.budget_constraint import BudgetConstraint\n",
    "from TaxSolver.data_wrangling.data_loader import DataLoader\n",
    "from TaxSolver.data_wrangling.bracket_input import BracketInput\n",
    "from TaxSolver.objective import BudgetObjective\n",
    "\n",
    "# Go to the project root directory\n",
    "if os.path.basename(os.getcwd()) == 'notebooks':\n",
    "    os.chdir('..')\n",
    "\n",
    "# Load taxpayer data from a system with 6 brackets into TaxSolver format\n",
    "dl = DataLoader(path=os.path.join(\"data\", \"example\", \"simple_simul_1000.xlsx\"), \n",
    "                income_before_tax=\"income_before_tax\", \n",
    "                income_after_tax=\"income_after_tax\")\n",
    "\n",
    "# Initialize the solver\n",
    "tax_solver = tx.TaxSolver(dl.households)\n",
    "\n",
    "# Split input along inflection points to construct brackets\n",
    "BracketInput.add_split_variables_to_solver(\n",
    "    tx=tax_solver,\n",
    "    target_var=\"income_before_tax\",\n",
    "    inflection_points=[0, 25_000, 50_000, 75_000, 100_000, 125_000, 150_000],\n",
    "    group_vars=[\"k_everybody\"]\n",
    ")\n",
    "\n",
    "# Define solver variables for the optimization\n",
    "income_tax = tx.BracketRule(\n",
    "    name=\"income_before_tax\",\n",
    "    var_name=\"income_before_tax\",\n",
    "    k_group_var=\"k_everybody\",\n",
    "    ub=1,\n",
    "    lb=0,\n",
    ")\n",
    "\n",
    "# Add solver variables to the solver\n",
    "tax_solver.add_rules([income_tax])\n",
    "\n",
    "# Define constraints for the optimization\n",
    "income_constraint = IncomeConstraint(0.0001, dl.households.values()) # No one can experience income shocks of more than 0.01%\n",
    "budget_constraint = BudgetConstraint(\n",
    "    \"All_households\", dl.households.values(), 0, 0 # The total tax revenue cannot decrease or increase\n",
    ")\n",
    "\n",
    "# Add constraints to the solver\n",
    "tax_solver.add_constraints([income_constraint, budget_constraint])\n",
    "\n",
    "# Solve the optimization problem\n",
    "tax_solver.solve()\n",
    "\n",
    "# Add an objective to the optimization\n",
    "tax_solver.add_objective(BudgetObjective(budget_constraint))\n",
    "\n",
    "# View results\n",
    "print(tax_solver.rules_and_rates_table())"
   ]
  }
 ],
 "metadata": {
  "kernelspec": {
   "display_name": ".venv",
   "language": "python",
   "name": "python3"
  },
  "language_info": {
   "codemirror_mode": {
    "name": "ipython",
    "version": 3
   },
   "file_extension": ".py",
   "mimetype": "text/x-python",
   "name": "python",
   "nbconvert_exporter": "python",
   "pygments_lexer": "ipython3",
   "version": "3.12.7"
  }
 },
 "nbformat": 4,
 "nbformat_minor": 5
}
