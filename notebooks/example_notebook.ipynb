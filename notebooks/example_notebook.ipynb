{
 "cells": [
  {
   "cell_type": "code",
   "execution_count": 3,
   "id": "c685a747",
   "metadata": {},
   "outputs": [],
   "source": [
    "## Load libraries\n",
    "import sys\n",
    "import os\n",
    "import numpy as np\n",
    "import pandas as pd\n",
    "from copy import deepcopy\n",
    "\n",
    "# Add src directory to Python path to import TaxSolver\n",
    "src_path = os.path.join(os.getcwd(), 'src')\n",
    "if src_path not in sys.path:\n",
    "    sys.path.insert(0, src_path)\n",
    "\n",
    "# Import TaxSolver modules\n",
    "import TaxSolver as tx\n",
    "from TaxSolver.data_wrangling.data_loader import DataLoader\n",
    "from TaxSolver.constraints.budget_constraint import BudgetConstraint\n",
    "from TaxSolver.constraints.income_constraint import IncomeConstraint\n",
    "from TaxSolver.objective import BudgetObjective\n",
    "from TaxSolver.data_wrangling.bracket_input import BracketInput"
   ]
  },
  {
   "cell_type": "markdown",
   "id": "bb57598f",
   "metadata": {},
   "source": [
    "Load table with taxpayers into DataLoader"
   ]
  },
  {
   "cell_type": "code",
   "execution_count": 4,
   "id": "be16c0e0",
   "metadata": {},
   "outputs": [
    {
     "name": "stdout",
     "output_type": "stream",
     "text": [
      "Directly loading from pd.DataFrame...\n",
      "Warning: 'weight' column specified as weight but not found in the dataframe. Variable 'weight' set to 1 as default.\n",
      "Setting 'weight' to 1 as default.\n",
      "Warning: 'mirror_id' column specified as mirror ID but not found in the dataframe.\n",
      "Warning: marginal_rate_current not found in the dataframe. Setting to 0 as default.\n",
      "Mirror household were missing for 1000 households: set to own id\n"
     ]
    }
   ],
   "source": [
    "## Load data\n",
    "file_path = os.path.join('..', 'data', 'example', 'simple_simul_1000.xlsx')\n",
    "df_taxpayers = pd.read_excel(file_path)\n",
    "df_taxpayers['hh_id'] = df_taxpayers.index\n",
    "# df_taxpayers = df_taxpayers.loc[df_taxpayers['income_before_tax'] <= 125_000, :].copy()\n",
    "\n",
    "dl = DataLoader(path=df_taxpayers, income_before_tax=\"income_before_tax\", income_after_tax=\"outcome_1\")"
   ]
  },
  {
   "cell_type": "markdown",
   "id": "5c6c7f36",
   "metadata": {},
   "source": [
    "Setup TaxSolver model"
   ]
  },
  {
   "cell_type": "code",
   "execution_count": 5,
   "id": "d4648c6c",
   "metadata": {},
   "outputs": [
    {
     "name": "stdout",
     "output_type": "stream",
     "text": [
      "Set parameter Username\n",
      "Academic license - for non-commercial use only - expires 2026-03-13\n"
     ]
    }
   ],
   "source": [
    "# Initialize the model\n",
    "tax_solver = tx.TaxSolver(dl.households)"
   ]
  },
  {
   "cell_type": "markdown",
   "id": "8ca05cb2",
   "metadata": {},
   "source": [
    "Split income_before_tax into sections based on inflection points"
   ]
  },
  {
   "cell_type": "code",
   "execution_count": 6,
   "id": "f9f13057",
   "metadata": {},
   "outputs": [],
   "source": [
    "BracketInput.add_split_variables_to_solver(\n",
    "    tx=tax_solver,\n",
    "    target_var=\"income_before_tax\",\n",
    "    inflection_points=[0, 25_000, 50_000, 75_000, 100_000, 125_000, 150_000],\n",
    "    group_vars=[\"k_everybody\"]      # or any other indicator columns\n",
    ")"
   ]
  },
  {
   "cell_type": "markdown",
   "id": "f476722f",
   "metadata": {},
   "source": [
    "Add solver variables through taxrules"
   ]
  },
  {
   "cell_type": "code",
   "execution_count": 7,
   "id": "270077aa",
   "metadata": {},
   "outputs": [],
   "source": [
    "## OPTION 1:\n",
    "# ## Add FlatTaxRule manually\n",
    "# income_tax_flat_0_25 = tx.FlatTaxRule(\n",
    "#     name=\"income_before_tax_k_everybody_0_25000\",\n",
    "#     var_name=\"income_before_tax_k_everybody_0_25000\",\n",
    "#     # k_group_var=\"k_everybody\",\n",
    "#     marginal_pressure=True,\n",
    "#     ub=1,\n",
    "#     lb=0,\n",
    "# )\n",
    "\n",
    "# ## Add FlatTaxRule manually\n",
    "# income_tax_flat_25_50 = tx.FlatTaxRule(\n",
    "#     name=\"income_before_tax_k_everybody_25000_50000\",\n",
    "#     var_name=\"income_before_tax_k_everybody_25000_50000\",\n",
    "#     # k_group_var=\"k_everybody\",\n",
    "#     marginal_pressure=True,\n",
    "#     ub=1,\n",
    "#     lb=0,\n",
    "# )\n",
    "\n",
    "## OPTION 2:\n",
    "## Add BracketRule\n",
    "income_tax = tx.BracketRule(\n",
    "    name=\"income_before_tax_k_everybody\",\n",
    "    var_name=\"income_before_tax\",\n",
    "    k_group_var=\"k_everybody\",\n",
    "    ub=1,\n",
    "    lb=0,\n",
    ")\n",
    "\n",
    "universal_benefit = tx.BenefitRule(\n",
    "    name=\"universal_benefit\",\n",
    "    var_name=\"k_everybody\",\n",
    ")\n",
    "\n",
    "# ## OPTION 1:\n",
    "# tax_solver.add_rules([income_tax_flat_0_25, income_tax_flat_25_50, universal_benefit])\n",
    "\n",
    "## OPTION 2:\n",
    "tax_solver.add_rules([income_tax, universal_benefit])"
   ]
  },
  {
   "cell_type": "markdown",
   "id": "919d42d8",
   "metadata": {},
   "source": [
    "Add constraints"
   ]
  },
  {
   "cell_type": "code",
   "execution_count": 8,
   "id": "d77235b2",
   "metadata": {},
   "outputs": [],
   "source": [
    "income_constraint = IncomeConstraint(0.0001, dl.households.values())\n",
    "budget_constraint = BudgetConstraint(\n",
    "    \"All_households\", dl.households.values(), 0, 0\n",
    ")\n",
    "\n",
    "tax_solver.add_constraints([income_constraint, budget_constraint])"
   ]
  },
  {
   "cell_type": "markdown",
   "id": "899c7283",
   "metadata": {},
   "source": [
    "Add objective"
   ]
  },
  {
   "cell_type": "code",
   "execution_count": 10,
   "id": "a58bc9fa",
   "metadata": {},
   "outputs": [],
   "source": [
    "tax_solver.add_objective(BudgetObjective(budget_constraint))"
   ]
  },
  {
   "cell_type": "markdown",
   "id": "023ff2b1",
   "metadata": {},
   "source": [
    "Solve"
   ]
  },
  {
   "cell_type": "code",
   "execution_count": 11,
   "id": "f35e7f67",
   "metadata": {},
   "outputs": [
    {
     "name": "stdout",
     "output_type": "stream",
     "text": [
      "Current tax balance All_households: -19991111\n",
      "New Maximum: -19991111\n",
      "New Minimum: -19991111\n",
      "Going to solve!\n",
      "Gurobi Optimizer version 12.0.0 build v12.0.0rc1 (mac64[arm] - Darwin 24.5.0 24F74)\n",
      "\n",
      "CPU model: Apple M4 Max\n",
      "Thread count: 16 physical cores, 16 logical processors, using up to 16 threads\n",
      "\n",
      "Optimize a model with 16004 rows, 14016 columns and 32677 nonzeros\n",
      "Model fingerprint: 0xd539ba65\n",
      "Model has 7 simple general constraints\n",
      "  7 INDICATOR\n",
      "Variable types: 14009 continuous, 7 integer (7 binary)\n",
      "Coefficient statistics:\n",
      "  Matrix range     [1e+00, 2e+04]\n",
      "  Objective range  [1e+00, 1e+00]\n",
      "  Bounds range     [1e+00, 1e+06]\n",
      "  RHS range        [1e+00, 2e+07]\n",
      "  GenCon coe range [1e+00, 1e+00]\n",
      "Presolve removed 15004 rows and 13010 columns\n",
      "Presolve time: 0.03s\n",
      "Presolved: 1000 rows, 1006 columns, 6663 nonzeros\n",
      "Variable types: 1006 continuous, 0 integer (0 binary)\n",
      "\n",
      "Root relaxation: objective -1.999111e+07, 18 iterations, 0.00 seconds (0.01 work units)\n",
      "\n",
      "    Nodes    |    Current Node    |     Objective Bounds      |     Work\n",
      " Expl Unexpl |  Obj  Depth IntInf | Incumbent    BestBd   Gap | It/Node Time\n",
      "\n",
      "*    0     0               0    -1.99911e+07 -1.999e+07 -0.00%     -    0s\n",
      "\n",
      "Explored 1 nodes (18 simplex iterations) in 0.03 seconds (0.06 work units)\n",
      "Thread count was 16 (of 16 available processors)\n",
      "\n",
      "Solution count 1: -1.99911e+07 \n",
      "No other solutions better than -1.99911e+07\n",
      "\n",
      "Optimal solution found (tolerance 1.00e-04)\n",
      "Best objective -1.999111100000e+07, best bound -1.999111100000e+07, gap -0.0000%\n",
      "Found at least one feasible solution!\n"
     ]
    }
   ],
   "source": [
    "# Solve the system\n",
    "tax_solver.solve()"
   ]
  },
  {
   "cell_type": "markdown",
   "id": "08c3b4b8",
   "metadata": {},
   "source": [
    "Inspect rates"
   ]
  },
  {
   "cell_type": "code",
   "execution_count": 12,
   "id": "523b9a6d",
   "metadata": {},
   "outputs": [
    {
     "data": {
      "text/html": [
       "<div>\n",
       "<style scoped>\n",
       "    .dataframe tbody tr th:only-of-type {\n",
       "        vertical-align: middle;\n",
       "    }\n",
       "\n",
       "    .dataframe tbody tr th {\n",
       "        vertical-align: top;\n",
       "    }\n",
       "\n",
       "    .dataframe thead th {\n",
       "        text-align: right;\n",
       "    }\n",
       "</style>\n",
       "<table border=\"1\" class=\"dataframe\">\n",
       "  <thead>\n",
       "    <tr style=\"text-align: right;\">\n",
       "      <th></th>\n",
       "      <th>rule_name</th>\n",
       "      <th>rule_type</th>\n",
       "      <th>var_name</th>\n",
       "      <th>rate</th>\n",
       "      <th>b</th>\n",
       "      <th>weight</th>\n",
       "    </tr>\n",
       "  </thead>\n",
       "  <tbody>\n",
       "    <tr>\n",
       "      <th>0</th>\n",
       "      <td>income_before_tax_k_everybody__income_before_t...</td>\n",
       "      <td>FlatTaxRule</td>\n",
       "      <td>income_before_tax_k_everybody_0_25000</td>\n",
       "      <td>0.107114</td>\n",
       "      <td>1.0</td>\n",
       "      <td>1</td>\n",
       "    </tr>\n",
       "    <tr>\n",
       "      <th>1</th>\n",
       "      <td>income_before_tax_k_everybody__income_before_t...</td>\n",
       "      <td>FlatTaxRule</td>\n",
       "      <td>income_before_tax_k_everybody_25000_50000</td>\n",
       "      <td>0.200076</td>\n",
       "      <td>1.0</td>\n",
       "      <td>1</td>\n",
       "    </tr>\n",
       "    <tr>\n",
       "      <th>2</th>\n",
       "      <td>income_before_tax_k_everybody__income_before_t...</td>\n",
       "      <td>FlatTaxRule</td>\n",
       "      <td>income_before_tax_k_everybody_50000_75000</td>\n",
       "      <td>0.300070</td>\n",
       "      <td>1.0</td>\n",
       "      <td>1</td>\n",
       "    </tr>\n",
       "    <tr>\n",
       "      <th>3</th>\n",
       "      <td>income_before_tax_k_everybody__income_before_t...</td>\n",
       "      <td>FlatTaxRule</td>\n",
       "      <td>income_before_tax_k_everybody_75000_100000</td>\n",
       "      <td>0.400060</td>\n",
       "      <td>1.0</td>\n",
       "      <td>1</td>\n",
       "    </tr>\n",
       "    <tr>\n",
       "      <th>4</th>\n",
       "      <td>income_before_tax_k_everybody__income_before_t...</td>\n",
       "      <td>FlatTaxRule</td>\n",
       "      <td>income_before_tax_k_everybody_100000_125000</td>\n",
       "      <td>0.500050</td>\n",
       "      <td>1.0</td>\n",
       "      <td>1</td>\n",
       "    </tr>\n",
       "    <tr>\n",
       "      <th>5</th>\n",
       "      <td>income_before_tax_k_everybody__income_before_t...</td>\n",
       "      <td>FlatTaxRule</td>\n",
       "      <td>income_before_tax_k_everybody_125000_150000</td>\n",
       "      <td>0.500050</td>\n",
       "      <td>1.0</td>\n",
       "      <td>1</td>\n",
       "    </tr>\n",
       "    <tr>\n",
       "      <th>6</th>\n",
       "      <td>universal_benefit</td>\n",
       "      <td>BenefitRule</td>\n",
       "      <td>k_everybody</td>\n",
       "      <td>175.995362</td>\n",
       "      <td>1.0</td>\n",
       "      <td>1</td>\n",
       "    </tr>\n",
       "  </tbody>\n",
       "</table>\n",
       "</div>"
      ],
      "text/plain": [
       "                                           rule_name    rule_type  \\\n",
       "0  income_before_tax_k_everybody__income_before_t...  FlatTaxRule   \n",
       "1  income_before_tax_k_everybody__income_before_t...  FlatTaxRule   \n",
       "2  income_before_tax_k_everybody__income_before_t...  FlatTaxRule   \n",
       "3  income_before_tax_k_everybody__income_before_t...  FlatTaxRule   \n",
       "4  income_before_tax_k_everybody__income_before_t...  FlatTaxRule   \n",
       "5  income_before_tax_k_everybody__income_before_t...  FlatTaxRule   \n",
       "6                                  universal_benefit  BenefitRule   \n",
       "\n",
       "                                      var_name        rate    b  weight  \n",
       "0        income_before_tax_k_everybody_0_25000    0.107114  1.0       1  \n",
       "1    income_before_tax_k_everybody_25000_50000    0.200076  1.0       1  \n",
       "2    income_before_tax_k_everybody_50000_75000    0.300070  1.0       1  \n",
       "3   income_before_tax_k_everybody_75000_100000    0.400060  1.0       1  \n",
       "4  income_before_tax_k_everybody_100000_125000    0.500050  1.0       1  \n",
       "5  income_before_tax_k_everybody_125000_150000    0.500050  1.0       1  \n",
       "6                                  k_everybody  175.995362  1.0       1  "
      ]
     },
     "execution_count": 12,
     "metadata": {},
     "output_type": "execute_result"
    }
   ],
   "source": [
    "tax_solver.rules_and_rates_table()"
   ]
  },
  {
   "cell_type": "code",
   "execution_count": null,
   "id": "0fb86ea7",
   "metadata": {},
   "outputs": [],
   "source": []
  }
 ],
 "metadata": {
  "kernelspec": {
   "display_name": "venv_taxlab",
   "language": "python",
   "name": "python3"
  },
  "language_info": {
   "codemirror_mode": {
    "name": "ipython",
    "version": 3
   },
   "file_extension": ".py",
   "mimetype": "text/x-python",
   "name": "python",
   "nbconvert_exporter": "python",
   "pygments_lexer": "ipython3",
   "version": "3.12.7"
  }
 },
 "nbformat": 4,
 "nbformat_minor": 5
}
